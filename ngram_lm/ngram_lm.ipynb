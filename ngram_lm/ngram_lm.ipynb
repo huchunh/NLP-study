{
 "cells": [
  {
   "cell_type": "markdown",
   "metadata": {},
   "source": [
    "Homework 2: n-gram LM\n",
    "----\n",
    "\n",
    "Due date: 25 Feb 2024\n",
    "\n",
    "Points: 105\n",
    "\n",
    "Goals:\n",
    "- understand the difficulties of counting and probablities in NLP applications\n",
    "- work with real world data to build a functioning language model\n",
    "- stress test your model (to some extent)\n",
    "\n",
    "Complete in groups of: __one (individually)__\n",
    "\n",
    "Allowed python modules:\n",
    "- `numpy`, `matplotlib`, and all built-in python libraries (e.g. `math` and `string`)\n",
    "- do not use `nltk` or `pandas`\n",
    "\n",
    "Instructions:\n",
    "- Complete outlined problems in this notebook. \n",
    "- When you have finished, __clear the kernel__ and __run__ your notebook \"fresh\" from top to bottom. Ensure that there are __no errors__. \n",
    "    - If a problem asks for you to write code that does result in an error (as in, the answer to the problem is an error), leave the code in your notebook but commented out so that running from top to bottom does not result in any errors.\n",
    "- Double check that you have completed Task 0.\n",
    "- Submit your work on Gradescope.\n",
    "- Double check that your submission on Gradescope looks like you believe it should."
   ]
  },
  {
   "cell_type": "markdown",
   "metadata": {},
   "source": [
    "Task 0: Name, References, Reflection (5 points)\n",
    "---\n",
    "\n",
    "Name: Chunhao Hu\n",
    "\n",
    "References\n",
    "---\n",
    "List the resources you consulted to complete this homework here. Write one sentence per resource about what it provided to you. If you consulted no references to complete your assignment, write a brief sentence stating that this is the case and why it was the case for you.\n",
    "\n",
    "(Example)\n",
    "- https://docs.python.org/3/tutorial/datastructures.html\n",
    "    - Read about the the basics and syntax for data structures in python.\n",
    "\n",
    "AI Collaboration\n",
    "---\n",
    "Following the *Policy on the use of Generative AI* in the syllabus, please cite any LLMs that you used here and briefly describe what you used them for. Additionally, provide comments in-line identifying the specific sections that you used LLMs on, if you used them towards the generation of any of your answers.\n",
    "AI is used for explaining concepts and checking correctness of my code \n",
    "Reflection\n",
    "----\n",
    "Answer the following questions __after__ you complete this assignment (no more than 1 sentence per question required, this section is graded on completion):\n",
    "\n",
    "1. Does this work reflect your best effort? Yes\n",
    "2. What was/were the most challenging part(s) of the assignment? generate sentence method and score method\n",
    "3. If you want feedback, what function(s) or problem(s) would you like feedback on and why?\n",
    "generate sentence method and score method and train method, these are the main part of the model"
   ]
  },
  {
   "cell_type": "markdown",
   "metadata": {},
   "source": [
    "Task 1: Berp Data Write-Up (5 points)\n",
    "---\n",
    "\n",
    "Every time you use a data set in an NLP application (or in any software application), you should be able to answer a set of questions about that data. Answer these now. Default to no more than 1 sentence per question needed. If more explanation is necessary, do give it."
   ]
  },
  {
   "cell_type": "markdown",
   "metadata": {},
   "source": [
    "This is about the __berp__ data set.\n",
    "\n",
    "1. Where did you get the data from? https://www1.icsi.berkeley.edu/Speech/berp.html\n",
    "2. How was the data collected (where did the people acquiring the data get it from and how)? From 6.4 hours of speech\n",
    "3. How large is the dataset? (# lines, # tokens) approximately 7500 sentences, with 1500 words\n",
    "4. What is your data? (i.e. newswire, tweets, books, blogs, etc)\n",
    "mixed-initiative query system the system provides the user with a list of possible restaurants. The user can then ask for more information about the restaurant.\n",
    "5. Who produced the data? (who were the authors of the text? Your answer might be a specific person or a particular group of people)\n",
    " International Computer Science Institute"
   ]
  },
  {
   "cell_type": "markdown",
   "metadata": {},
   "source": [
    "Task 2: Implement an n-gram Language Model (90 points)\n",
    "----\n",
    "\n",
    "Implement the `LanguageModel` class as outlined in the provided `lm_model.py` file. Do not change function signatures (the unit tests that we provide and in the autograder will break).\n",
    "\n",
    "Your language model:\n",
    "- *must* work for the unigram, bigram, and trigram cases (5 points are allocated to an experiment involving larger values of `n`)\n",
    "    - hint: try to implement the bigram case as a generalized \"n greater than 1\" case\n",
    "- should be *token agnostic* (this means that if we give the model text tokenized as single characters, it will function as a character language model and if we give the model text tokenized as \"words\" (or \"traditionally\"), then it will function as a language model with those tokens)\n",
    "- will use Laplace smoothing\n",
    "- will replace all tokens that occur only once with `<UNK>` at train time\n",
    "    - do not add `<UNK>` to your vocabulary if no tokens in the training data occur only once!\n",
    "\n",
    "We have provided:\n",
    "- a function to read in files\n",
    "- some functions to change a list of strings into tokens\n",
    "- the skeleton of the `LanguageModel` class\n",
    "\n",
    "You need to implement:\n",
    "- all functions marked\n",
    "\n",
    "You may implement:\n",
    "- additional functions/methods as helpful to you\n",
    "\n",
    "As a general guideline for reference, including comments, all code required, and some debugging code that can be run with `verbose` parameters, our solution is ~ 300 lines. (~ 120 lines added to the starter code).\n",
    "\n",
    "Points breakdown marked in code below."
   ]
  },
  {
   "cell_type": "code",
   "execution_count": 23,
   "metadata": {},
   "outputs": [],
   "source": [
    "import lm_model as lm\n",
    "import numpy as np\n",
    "import matplotlib.pyplot as plt"
   ]
  },
  {
   "cell_type": "code",
   "execution_count": 37,
   "metadata": {},
   "outputs": [
    {
     "name": "stdout",
     "output_type": "stream",
     "text": [
      "[('sam', 0.1), ('ham', 0.2), ('<s>', 0.4), ('i', 0.6000000000000001), ('am', 0.8), ('</s>', 1.0)]\n",
      "['<s>', 'i']\n",
      "['<s>', 'i', 'ham']\n",
      "['<s>', 'i', 'ham', 'am']\n",
      "['<s>', 'i', 'ham', 'am']\n",
      "[('sam', 0.1), ('ham', 0.2), ('<s>', 0.4), ('i', 0.6000000000000001), ('am', 0.8), ('</s>', 1.0)]\n",
      "['<s>', 'i']\n",
      "[['<s>', 'i', 'ham', 'am', '</s>'], ['<s>', 'i', '</s>']]\n",
      "[['<s>', 'ham', 'i', 'am', 'sam', '</s>'], ['<s>', 'sam', 'i', 'am', 'sam', 'i', 'am', '</s>']]\n",
      "[('<s>', 0.2), ('</s>', 0.4), ('<UNK>', 1.0)]\n",
      "[('<s>', 0.2), ('</s>', 0.4), ('<UNK>', 1.0)]\n",
      "['<s>']\n",
      "['<s>', '<UNK>']\n",
      "['<s>', '<UNK>']\n",
      "['<s>', '<UNK>']\n",
      "['<s>', '<UNK>', '<UNK>']\n",
      "['<s>', '<UNK>', '<UNK>', '<UNK>']\n",
      "['<s>', '<UNK>', '<UNK>', '<UNK>']\n",
      "['<s>', '<UNK>', '<UNK>', '<UNK>', '<UNK>']\n",
      "['<s>', '<UNK>', '<UNK>', '<UNK>', '<UNK>', '<UNK>']\n",
      "['<s>', '<UNK>', '<UNK>', '<UNK>', '<UNK>', '<UNK>', '<UNK>']\n",
      "[('<s>', 0.2), ('</s>', 0.4), ('<UNK>', 1.0)]\n",
      "['<s>']\n",
      "['<s>', '<UNK>']\n",
      "['<s>', '<UNK>', '<UNK>']\n",
      "['<s>', '<UNK>', '<UNK>', '<UNK>']\n",
      "['<s>', '<UNK>', '<UNK>', '<UNK>', '<UNK>']\n",
      "[('<s>', 0.2), ('</s>', 0.4), ('<UNK>', 1.0)]\n",
      "['<s>', '<UNK>']\n",
      "['<s>', '<UNK>', '<UNK>']\n",
      "['<s>', '<UNK>', '<UNK>', '<UNK>']\n",
      "['<s>', '<UNK>', '<UNK>', '<UNK>', '<UNK>']\n",
      "['<s>', '<UNK>', '<UNK>', '<UNK>', '<UNK>', '<UNK>']\n",
      "['<s>', '<UNK>', '<UNK>', '<UNK>', '<UNK>', '<UNK>', '<UNK>']\n",
      "['<s>', '<UNK>', '<UNK>', '<UNK>', '<UNK>', '<UNK>', '<UNK>', '<UNK>']\n",
      "[('<s>', 0.2), ('</s>', 0.4), ('<UNK>', 1.0)]\n",
      "sent ['<s>', '<UNK>', '<UNK>', '<UNK>', '</s>']\n",
      "sent ['<s>', '<UNK>', '<UNK>', '</s>']\n",
      "sent ['<s>', '<UNK>', '</s>']\n",
      "sent ['<s>', '<UNK>', '</s>']\n",
      "sent ['<s>', '<UNK>', '<UNK>', '</s>']\n"
     ]
    }
   ],
   "source": [
    "# test the language model (unit tests)\n",
    "import test_minitrainingprovided as test\n",
    "\n",
    "# passing all these tests is a good indication that your model\n",
    "# is correct. They are *not a guarantee*, so make sure to look\n",
    "# at the tests and the cases that they cover. (we'll be testing\n",
    "# your model against all of the testing data in addition).\n",
    "\n",
    "# autograder points in gradescope are assigned SIXTY points\n",
    "# this is essentially 60 points for correctly implementing your\n",
    "# underlying model\n",
    "# there are an additional 10 points manually graded for the correctness\n",
    "# parts of your sentence generation\n",
    "\n",
    "# make sure all training files are in a \"training_files\" directory \n",
    "# that is in the same directory as this notebook\n",
    "\n",
    "unittest = test.TestMiniTraining()\n",
    "unittest.test_createunigrammodellaplace()\n",
    "unittest.test_createbigrammodellaplace()\n",
    "unittest.test_unigramlaplace()\n",
    "unittest.test_unigramunknownslaplace()\n",
    "unittest.test_bigramlaplace()\n",
    "unittest.test_bigramunknownslaplace()\n",
    "# produces output\n",
    "unittest.test_generateunigramconcludes()\n",
    "# produces output\n",
    "unittest.test_generatebigramconcludes()\n",
    "\n",
    "unittest.test_onlyunknownsgenerationandscoring()"
   ]
  },
  {
   "cell_type": "code",
   "execution_count": 25,
   "metadata": {},
   "outputs": [
    {
     "name": "stdout",
     "output_type": "stream",
     "text": [
      "['<s>', 'i', 'would', 'like', 'to', 'be', 'really', '<UNK>', 'the', '<UNK>', 'really', 'good', 'indonesian', 'restaurants', 'in', 'berkeley', 'thai', 'in', 'cafe', '</s>']\n",
      "['<s>', 'la', 'tour', 'eiffel', '</s>']\n",
      "['<s>', 'uh', 'one', 'minutes', 'from', 'icksee', '</s>']\n",
      "['<s>', 'fifteen', 'dollars', '</s>']\n",
      "['<s>', 'what', \"i'm\", 'not', 'matter', '</s>']\n"
     ]
    }
   ],
   "source": [
    "# 5 points\n",
    "\n",
    "# instantiate a bigram language model, train it, and generate ten sentences\n",
    "# make sure your output is nicely formatted!\n",
    "ngram = 2\n",
    "training_file_path = \"training_files/berp-training.txt\"\n",
    "# optional parameter tells the tokenize function how to tokenize\n",
    "by_char = False\n",
    "data = lm.read_file(training_file_path)\n",
    "tokens = lm.tokenize(data, ngram, by_char=by_char)\n",
    "\n",
    "# YOUR CODE HERE\n",
    "l=lm.LanguageModel(ngram)\n",
    "l.train(tokens)\n",
    "sen=l.generate(5)\n",
    "for s in sen:\n",
    "    print(s)\n",
    "\n"
   ]
  },
  {
   "cell_type": "code",
   "execution_count": 41,
   "metadata": {},
   "outputs": [],
   "source": [
    "ngram1 = 2\n",
    "training_file_path1 = \"training_files/berp-training.txt\"\n",
    "# optional parameter tells the tokenize function how to tokenize\n",
    "by_char = False\n",
    "data1 = lm.read_file(training_file_path1)\n",
    "tokens1 = lm.tokenize(data1, ngram1, by_char=by_char)\n",
    "\n"
   ]
  },
  {
   "cell_type": "code",
   "execution_count": 42,
   "metadata": {},
   "outputs": [
    {
     "name": "stdout",
     "output_type": "stream",
     "text": [
      "['<s>', 'i', 'feel', 'like', 'german', 'restaurant', '</s>']\n",
      "['<s>', 'give', 'me', 'something', 'on', 'vietnamese', 'food', '</s>']\n",
      "['<s>', 'five', 'miles', 'for', 'a', 'tuesday', '</s>']\n",
      "['<s>', 'i', 'would', 'like', 'the', 'yen-ching', 'restaurant', 'in', 'albany', '</s>']\n",
      "['<s>', 'i', 'get', 'some', 'american', '</s>']\n"
     ]
    }
   ],
   "source": [
    "# YOUR CODE HERE\n",
    "lt=lm.LanguageModel(ngram1)\n",
    "lt.train(tokens1)\n",
    "sen=lt.generate(5)\n",
    "for s in sen:\n",
    "    print(s)"
   ]
  },
  {
   "cell_type": "code",
   "execution_count": 26,
   "metadata": {},
   "outputs": [
    {
     "name": "stdout",
     "output_type": "stream",
     "text": [
      "[1.996178824899165e-34, 7.746303105697787e-09, 1.1022571428639797e-11, 2.079948662857137e-05, 1.432110530200594e-09]\n",
      "mean 4.16173521295574e-06\n",
      "std 8.318876199999785e-06\n"
     ]
    }
   ],
   "source": [
    "# 5 points\n",
    "\n",
    "# evaluate your bigram model on the test data\n",
    "# score each line in the test data individually, then calculate the average score\n",
    "# you need not re-train your model\n",
    "test_path = \"testing_files/berp-test.txt\"\n",
    "test_data = lm.read_file(test_path)\n",
    "\n",
    "scores = []\n",
    "# YOUR CODE HERE\n",
    "for s in sen:\n",
    "    scores.append(l.score(s))\n",
    "print(scores)\n",
    "scores = np.array(scores)\n",
    "print('mean',scores.mean())\n",
    "print('std',scores.std())\n",
    "# Print out the mean score and standard deviation\n",
    "# for words-as-tokens, these values should be\n",
    "# ~4.9 * 10^-5 and 0.000285\n"
   ]
  },
  {
   "cell_type": "code",
   "execution_count": 55,
   "metadata": {},
   "outputs": [
    {
     "name": "stdout",
     "output_type": "stream",
     "text": [
      "['<s>', '<s>', '<s>', '<s>', '<s>', '<s>', '<s>', '<s>', '<s>', 'i', 'want', 'steak', 'and', 'seafood', '</s>']\n",
      "['<s>', '<s>', '<s>', '<s>', '<s>', '<s>', '<s>', '<s>', '<s>', 'i', \"don't\", 'want', 'to', 'spend', 'more', 'than', 'fifteen', 'dollars', '</s>']\n",
      "['<s>', '<s>', '<s>', '<s>', '<s>', '<s>', '<s>', '<s>', '<s>', '<UNK>', \"i'd\", 'like', 'to', 'eat', 'some', 'pizza', '</s>']\n"
     ]
    }
   ],
   "source": [
    "# 5 points\n",
    "\n",
    "# see if you can train your model on the data you found for your first homework\n",
    "def train_my(n):\n",
    "    ngram = n\n",
    "    training_file_path = \"training_files\\my_training.txt\"\n",
    "    # optional parameter tells the tokenize function how to tokenize\n",
    "    by_char = False\n",
    "    data = lm.read_file(training_file_path)\n",
    "    tokens = lm.tokenize(data, ngram, by_char=by_char)\n",
    "\n",
    "    # YOUR CODE HERE\n",
    "    l=lm.LanguageModel(ngram)\n",
    "    l.train(tokens)\n",
    "    return l\n",
    "\n",
    "# what is the maximum value of n <= 10 that you can train a model *in your programming environment* in a reasonable amount of time? (less than 3 - 5 minutes)\n",
    "#10\n",
    "\n",
    "# generate three sentences with this model\n",
    "for i in train_my(10).generate(3):\n",
    "    print(i)\n",
    "\n"
   ]
  },
  {
   "cell_type": "markdown",
   "metadata": {},
   "source": [
    "Implement the corresponding function and evaluate the perplexity of your model on the first 20 lines in the test data for values of `n` from 1 to 3. Perplexity should be individually calculated for each line."
   ]
  },
  {
   "cell_type": "code",
   "execution_count": null,
   "metadata": {},
   "outputs": [],
   "source": [
    "#test_data"
   ]
  },
  {
   "cell_type": "code",
   "execution_count": 48,
   "metadata": {},
   "outputs": [
    {
     "name": "stdout",
     "output_type": "stream",
     "text": [
      "********\n",
      "Ngram model: 1\n",
      "perplexity 6.010001337991459e+19\n",
      "********\n",
      "Ngram model: 2\n",
      "perplexity 93833600.89160895\n",
      "********\n",
      "Ngram model: 3\n",
      "perplexity 385218.91213861026\n"
     ]
    }
   ],
   "source": [
    "test_path = \"testing_files/berp-test.txt\"\n",
    "test_data = lm.read_file(test_path)\n",
    "for ngram in range(1, 4):\n",
    "    score = []\n",
    "    tokenized_train_data = lm.tokenize(test_data,ngram,by_char=False)\n",
    "    l= lm.LanguageModel(ngram)\n",
    "    l.train(tokenized_train_data)\n",
    "    for i in range(20):\n",
    "        sen = lm.tokenize_line(test_data[i],ngram,by_char=False)\n",
    "        #print(sen)\n",
    "        #print(l.perplexity(sen))\n",
    "        score.append(l.perplexity(sen))\n",
    "    print(\"********\")\n",
    "    print(\"Ngram model:\", ngram)\n",
    "    score =np.array(score)\n",
    "    print('perplexity',score.mean())\n",
    "\n"
   ]
  },
  {
   "cell_type": "markdown",
   "metadata": {},
   "source": [
    "1. What are the common attributes of the test sentences that cause very high perplexity? __YOUR ANSWER HERE__"
   ]
  },
  {
   "cell_type": "markdown",
   "metadata": {},
   "source": [
    "The length of a sentence, the longer the sentence usually the higher the perplexity, and n_gram, if n_gram is low, perplexity is higher "
   ]
  },
  {
   "cell_type": "markdown",
   "metadata": {},
   "source": [
    "5 points in this assignment are reserved for overall style (both for writing and for code submitted). All work submitted should be clear, easily interpretable, and checked for spelling, etc. (Re-read what you write and make sure it makes sense). Course staff are always happy to give grammatical help (but we won't pre-grade the content of your answers)."
   ]
  },
  {
   "cell_type": "markdown",
   "metadata": {},
   "source": []
  }
 ],
 "metadata": {
  "kernelspec": {
   "display_name": "Python 3 (ipykernel)",
   "language": "python",
   "name": "python3"
  },
  "language_info": {
   "codemirror_mode": {
    "name": "ipython",
    "version": 3
   },
   "file_extension": ".py",
   "mimetype": "text/x-python",
   "name": "python",
   "nbconvert_exporter": "python",
   "pygments_lexer": "ipython3",
   "version": "3.9.7"
  }
 },
 "nbformat": 4,
 "nbformat_minor": 4
}
