{
 "cells": [
  {
   "cell_type": "code",
   "execution_count": 1,
   "id": "c06fa56e-b22b-4618-87e0-63a7760ce5d2",
   "metadata": {},
   "outputs": [],
   "source": [
    "import numpy as np\n",
    "import random\n",
    "import pandas as pd\n",
    "import nltk\n",
    "import re\n",
    "import os\n",
    "import string\n",
    "import networkx as nx\n",
    "import matplotlib.pyplot as plt\n",
    "from nltk.tokenize import sent_tokenize\n",
    "from nltk.corpus import stopwords\n",
    "from nltk.stem.wordnet import WordNetLemmatizer\n",
    "from sklearn.metrics.pairwise import cosine_similarity\n",
    "from datasets import load_dataset\n",
    "import evaluate"
   ]
  },
  {
   "cell_type": "code",
   "execution_count": 2,
   "id": "9e3dbc82-27d4-4eb8-bcc0-e0ebf22c1958",
   "metadata": {},
   "outputs": [],
   "source": [
    "random.seed(111)"
   ]
  },
  {
   "cell_type": "markdown",
   "id": "30337c88-ac6e-45f2-b704-12dfd310bf0c",
   "metadata": {},
   "source": [
    "# Extractive Summarization"
   ]
  },
  {
   "cell_type": "markdown",
   "id": "70d5f4a9-d2b6-4c01-9e08-dbcc2e4098a9",
   "metadata": {},
   "source": [
    "### Preprocessing Functions"
   ]
  },
  {
   "cell_type": "code",
   "execution_count": 3,
   "id": "2cb557e0-977f-4d8f-aee8-16927bc9b890",
   "metadata": {},
   "outputs": [],
   "source": [
    "#nltk.download('punkt')  # one time execution\n",
    "stop_words = stopwords.words('english')"
   ]
  },
  {
   "cell_type": "code",
   "execution_count": 4,
   "id": "97521ab3-3108-46e0-a929-f917005180bf",
   "metadata": {},
   "outputs": [],
   "source": [
    "def clean(text):\n",
    "    # normalize characters\n",
    "    text = text.lower()\n",
    "    text = text.replace('\\n', ' ')\n",
    "    text = text.replace(' . ', '')\n",
    "    # remove punctuation, non-ascii characters, and other patterns\n",
    "    text = re.sub(\"[^a-zA-Z .]\", \"\", text)\n",
    "\n",
    "    text = re.sub(\"(__+)\", ' ', str(text)).lower()  # remove _ if it occors more than one time consecutively\n",
    "    text = re.sub(\"(--+)\", ' ', str(text)).lower()  # remove - if it occors more than one time consecutively\n",
    "    text = re.sub(\"(~~+)\", ' ', str(text)).lower()  # remove ~ if it occors more than one time consecutively\n",
    "    text = re.sub(\"(\\+\\++)\", ' ', str(text)).lower()  # remove + if it occors more than one time consecutively\n",
    "    text = re.sub(\"(\\.\\.+)\", ' ', str(text)).lower()  # remove . if it occors more than one time consecutively\n",
    "\n",
    "\n",
    "    # remove stopwords\n",
    "    stop = stopwords.words('english')\n",
    "    text = \" \".join([word for word in text.split() if word not in (stop)])\n",
    "\n",
    "    return text.strip()"
   ]
  },
  {
   "cell_type": "code",
   "execution_count": 5,
   "id": "51ba1f7e-13dd-4ff2-be38-316976716561",
   "metadata": {},
   "outputs": [],
   "source": [
    "def loadGloveModel(gloveFile):\n",
    "    word_embeddings = {}\n",
    "    f = open(gloveFile, encoding='utf-8')\n",
    "    for line in f:\n",
    "        values = line.split()\n",
    "        word = values[0]\n",
    "        coefs = np.asarray(values[1:], dtype='float32')\n",
    "        word_embeddings[word] = coefs\n",
    "    f.close()\n",
    "    return word_embeddings\n"
   ]
  },
  {
   "cell_type": "code",
   "execution_count": 6,
   "id": "7dcf64de-67c4-43f0-b777-c299c9663237",
   "metadata": {},
   "outputs": [],
   "source": [
    "def rem_ascii(s):\n",
    "    return \"\".join([c for c in s if ord(c) < 128 ])"
   ]
  },
  {
   "cell_type": "markdown",
   "id": "e2da841b-ae73-40ab-92a8-408c163c5e6f",
   "metadata": {},
   "source": [
    "### Data"
   ]
  },
  {
   "cell_type": "code",
   "execution_count": 7,
   "id": "314ff438-e6d6-4c83-85bb-34513f6b8633",
   "metadata": {},
   "outputs": [],
   "source": [
    "df = pd.read_csv('Data/papers.csv')\n",
    "df = df[df['abstract'] != 'Abstract Missing'].reset_index()"
   ]
  },
  {
   "cell_type": "code",
   "execution_count": 8,
   "id": "cd233df2-9bfa-453f-92ce-e14137f73ff5",
   "metadata": {},
   "outputs": [],
   "source": [
    "df['paper_text'] = df['paper_text'].apply(clean)"
   ]
  },
  {
   "cell_type": "code",
   "execution_count": 9,
   "id": "928e38b3-0309-4953-8f2c-d3cec90b313e",
   "metadata": {},
   "outputs": [],
   "source": [
    "df = df[df['paper_text'].str.len() < 22000].reset_index()\n",
    "rand = random.randint(0, len(df))"
   ]
  },
  {
   "cell_type": "code",
   "execution_count": 10,
   "id": "a7edeeb1-3f3a-4ebd-9c58-6dd660e64fc8",
   "metadata": {},
   "outputs": [],
   "source": [
    "single_test = df.loc[435, 'paper_text']"
   ]
  },
  {
   "cell_type": "code",
   "execution_count": 11,
   "id": "450cc582-5ef3-4772-b491-f9c57ec07f93",
   "metadata": {},
   "outputs": [
    {
     "name": "stderr",
     "output_type": "stream",
     "text": [
      "[nltk_data] Downloading package punkt to\n",
      "[nltk_data]     C:\\Users\\epaul\\AppData\\Roaming\\nltk_data...\n",
      "[nltk_data]   Package punkt is already up-to-date!\n"
     ]
    }
   ],
   "source": [
    "stop = set(stopwords.words('english'))\n",
    "exclude = set(string.punctuation)\n",
    "nltk.download('punkt') \n",
    "glove_path = 'Data/Glove/glove.6B.100d.txt'\n",
    "dim = 100 ## depends on Glove embeddings dimension"
   ]
  },
  {
   "cell_type": "markdown",
   "id": "3609d0de-b402-4d72-afc2-9ea104f46e84",
   "metadata": {},
   "source": [
    "### Embeddings with GloVe"
   ]
  },
  {
   "cell_type": "code",
   "execution_count": 12,
   "id": "55d581c8-c7d4-427c-b405-e9687cd191a2",
   "metadata": {},
   "outputs": [],
   "source": [
    "word_embeddings = loadGloveModel(glove_path)"
   ]
  },
  {
   "cell_type": "code",
   "execution_count": 13,
   "id": "9acb29ed-f90e-4243-ad8d-a13eef6c7045",
   "metadata": {},
   "outputs": [],
   "source": [
    "sentences = sent_tokenize(single_test)\n",
    "cleaned_texts = [rem_ascii(clean(sentence)) for sentence in sentences]"
   ]
  },
  {
   "cell_type": "code",
   "execution_count": 14,
   "id": "c9cf91bf-3e07-4b76-a7d2-437019d4f71e",
   "metadata": {},
   "outputs": [],
   "source": [
    "sentence_vectors = []\n",
    "for i in cleaned_texts:\n",
    "    if len(i) != 0:\n",
    "        v = sum([word_embeddings.get(w, np.zeros((dim,))) for w in i.split()])/(len(i.split())+0.001)\n",
    "    else:\n",
    "        v = np.zeros((dim,))\n",
    "    sentence_vectors.append(v)"
   ]
  },
  {
   "cell_type": "markdown",
   "id": "6fc8b988-f06e-4077-ac49-48129aeba8bc",
   "metadata": {},
   "source": [
    "### Similarity matrix of all sentences in text"
   ]
  },
  {
   "cell_type": "code",
   "execution_count": 15,
   "id": "29b015df-a7f4-47cc-8caa-52b8061e0d36",
   "metadata": {},
   "outputs": [
    {
     "data": {
      "image/png": "[encoded data removed]",
      "text/plain": [
       "<Figure size 1000x1000 with 1 Axes>"
      ]
     },
     "metadata": {},
     "output_type": "display_data"
    }
   ],
   "source": [
    "sim_mat = np.zeros([len(cleaned_texts), len(cleaned_texts)])\n",
    "for i in range(len(sentences)):\n",
    "    for j in range(len(sentences)):\n",
    "        if i != j:\n",
    "            sim_mat[i][j] = cosine_similarity(sentence_vectors[i].reshape(1,dim),sentence_vectors[j].reshape(1,dim))[0,0]\n",
    "            \n",
    "sim_mat = np.round(sim_mat,3)\n",
    "\n",
    "\n",
    "# Creating the network graph\n",
    "nx_graph = nx.from_numpy_array(sim_mat)\n",
    "plt.figure(figsize=(10, 10))\n",
    "pos = nx.spring_layout(nx_graph)\n",
    "nx.draw(nx_graph, with_labels=True, font_weight='bold')\n",
    "nx.draw_networkx_edge_labels(nx_graph,pos,font_color='red')\n",
    "plt.show()\n"
   ]
  },
  {
   "cell_type": "markdown",
   "id": "35f55f8d-205b-4f92-b3ee-12d6dc194332",
   "metadata": {},
   "source": [
    "### TextRank Algorithm\n",
    "##### picking most 'important' and encaptuirng sentences"
   ]
  },
  {
   "cell_type": "code",
   "execution_count": 16,
   "id": "49c392b9-b3dc-4a06-beb1-36cf39a56c9a",
   "metadata": {},
   "outputs": [
    {
     "name": "stdout",
     "output_type": "stream",
     "text": [
      "{0: 0.003227641522791975, 1: 0.0032685709874593393, 2: 0.0032310088738470213, 3: 0.003025339414566389, 4: 0.003428618909042235, 5: 0.003314103857730416, 6: 0.0029352178283978546, 7: 0.003057842066733995, 8: 0.0028367491813743135, 9: 0.0033470760718827854, 10: 0.003412306949168158, 11: 0.0032847847490719883, 12: 0.0035020539718709745, 13: 0.0033139472234174007, 14: 0.0025992154484721502, 15: 0.0029257412936551834, 16: 0.003026999898973469, 17: 0.003314736610085718, 18: 0.002788327804821722, 19: 0.0034935862274122573, 20: 0.0032640141969140293, 21: 0.0032388633611971033, 22: 0.003417766298402439, 23: 0.0033142608441991852, 24: 0.0033777080227299344, 25: 0.0027720607072022887, 26: 0.003334944700003496, 27: 0.0034413835090092524, 28: 0.0034309356674599553, 29: 0.0033636478653471, 30: 0.0031547149320318795, 31: 0.0030640316430096516, 32: 0.0034256692320312767, 33: 0.0035094408844921297, 34: 0.003247931651413164, 35: 0.003293378738753661, 36: 0.003252833032329882, 37: 0.0028795748481783116, 38: 0.0031233817644112363, 39: 0.003286939163969792, 40: 0.0027958374672645923, 41: 0.0025101295201455983, 42: 0.003021840606853118, 43: 0.002551673997253236, 44: 0.003154653198345617, 45: 0.0035333143321216445, 46: 0.0026841157777891486, 47: 0.003293058388910703, 48: 0.003232664234902879, 49: 0.0033478308532979674, 50: 0.003240099794792414, 51: 0.003483937755511109, 52: 0.0026809141814311435, 53: 0.003099189039548368, 54: 0.0035141487450174617, 55: 0.0031326488658347776, 56: 0.0021947400552757273, 57: 0.0033670905166802195, 58: 0.0031651419870081603, 59: 0.002844976688392863, 60: 0.003066388413372809, 61: 0.0029482196784537383, 62: 0.0032933799191151576, 63: 0.0033188301449654906, 64: 0.003384231922367897, 65: 0.0030006950250002985, 66: 0.002639602326663071, 67: 0.0032504637970059173, 68: 0.0031776920350772334, 69: 0.0033568656561481993, 70: 0.0026938849233326123, 71: 0.0030295498058468934, 72: 0.0029025507419849546, 73: 0.0024868024347633267, 74: 0.003189492753747548, 75: 0.0032763423892640886, 76: 0.003457512334324617, 77: 0.0033184325140467557, 78: 0.003457512334324617, 79: 0.003457512334324617, 80: 0.003457512334324617, 81: 0.003457512334324617, 82: 0.003457512334324617, 83: 0.0032763423892640886, 84: 0.003457512334324617, 85: 0.003457512334324617, 86: 0.00316524019692519, 87: 0.003457512334324617, 88: 0.003165262685178622, 89: 0.0032763423892640886, 90: 0.0034575123343246164, 91: 0.003254388447264182, 92: 0.0034575123343246164, 93: 0.0034575123343246164, 94: 0.003349301415212223, 95: 0.0034882551094318577, 96: 0.0032295723922969245, 97: 0.0033732362343470326, 98: 0.003436458683338491, 99: 0.0032716424930436705, 100: 0.0033855063201149475, 101: 0.003422289862474532, 102: 0.0033661868395643752, 103: 0.0033196063928083983, 104: 0.00045530429510552684, 105: 0.0034474588887388534, 106: 0.0033635210184772197, 107: 0.003471096853627286, 108: 0.0035530534242368644, 109: 0.003189071263252403, 110: 0.003366977509049459, 111: 0.0035158484697442012, 112: 0.0029841270593761017, 113: 0.002809986959558515, 114: 0.0033923657712900076, 115: 0.0035012757811156005, 116: 0.0031308671280202978, 117: 0.0034575123343246164, 118: 0.00343094868484278, 119: 0.0033865401260618857, 120: 0.0028864866947642355, 121: 0.0032489660629704425, 122: 0.00251421840763027, 123: 0.0026757920881992792, 124: 0.003453053492527204, 125: 0.0034575123343246164, 126: 0.003213741201421979, 127: 0.0034575123343246164, 128: 0.0027865281781281133, 129: 0.0034575123343246164, 130: 0.0034575123343246164, 131: 0.0034575123343246164, 132: 0.0034575123343246164, 133: 0.0029858437966351326, 134: 0.003332108226515818, 135: 0.0031608296841680577, 136: 0.0033463392311996027, 137: 0.0031955253944280135, 138: 0.0026369482297470682, 139: 0.00338826160229688, 140: 0.003138893679831486, 141: 0.003085429881525826, 142: 0.0020284742185911545, 143: 0.003314566056028743, 144: 0.0034617373681101508, 145: 0.0029240680823444136, 146: 0.0033720846643042076, 147: 0.0032220130636773877, 148: 0.0032191921320287326, 149: 0.00340504628256952, 150: 0.0032057338200965043, 151: 0.0031997628804941317, 152: 0.0032543384727202855, 153: 0.0034575123343246164, 154: 0.0032745392618992834, 155: 0.0033079382611175714, 156: 0.00354408229716931, 157: 0.0032763423892640886, 158: 0.0034575123343246164, 159: 0.0034575123343246164, 160: 0.0034575123343246164, 161: 0.0034575123343246164, 162: 0.0034575123343246164, 163: 0.0034575123343246164, 164: 0.0034575123343246164, 165: 0.0034575123343246164, 166: 0.0034575123343246164, 167: 0.0034575123343246164, 168: 0.0034575123343246164, 169: 0.0034575123343246164, 170: 0.0034575123343246164, 171: 0.0034575123343246164, 172: 0.0034575123343246164, 173: 0.0034575123343246164, 174: 0.0034575123343246164, 175: 0.0034575123343246164, 176: 0.00324587357393724, 177: 0.003254388447264182, 178: 0.003254388447264182, 179: 0.003254388447264182, 180: 0.003254388447264182, 181: 0.0034575123343246164, 182: 0.0034575123343246164, 183: 0.0032599729414557574, 184: 0.0034575123343246164, 185: 0.003039669141773611, 186: 0.0032776402281971652, 187: 0.003254388447264182, 188: 0.003254388447264182, 189: 0.003254388447264182, 190: 0.003254388447264182, 191: 0.0034575123343246164, 192: 0.0034575123343246164, 193: 0.0034575123343246164, 194: 0.0034575123343246164, 195: 0.0034575123343246164, 196: 0.0034575123343246164, 197: 0.0034575123343246164, 198: 0.003527513107329704, 199: 0.0025144748752192743, 200: 0.0029735868287923796, 201: 0.003345587430300967, 202: 0.0034481841939822885, 203: 0.00277839701710608, 204: 0.0029895649118783273, 205: 0.0011680712855178152, 206: 0.00045530429510552684, 207: 0.003344242156546089, 208: 0.0033240715458553068, 209: 0.003050502812189326, 210: 0.0031854617798884855, 211: 0.002656999665019861, 212: 0.0035330265639606563, 213: 0.0033313547929408405, 214: 0.003182613306043419, 215: 0.0032763875220045507, 216: 0.0032982845093430567, 217: 0.0032556309000002807, 218: 0.0033342932555448083, 219: 0.0034575123343246164, 220: 0.003431815438914851, 221: 0.0018067583589972806, 222: 0.0032206972976638404, 223: 0.002894337612182607, 224: 0.003417496414266643, 225: 0.0034931116262163493, 226: 0.003037688340811626, 227: 0.0034025996819443604, 228: 0.002645178528758604, 229: 0.0031416817525790636, 230: 0.0032892765541629294, 231: 0.0032999701520897476, 232: 0.003075510814556998, 233: 0.00285443552203609, 234: 0.0035217543269158314, 235: 0.0023622127335383193, 236: 0.0033661868395643752, 237: 0.00316281364945032, 238: 0.0031870625426937567, 239: 0.002806388603260207, 240: 0.0034356055044835717, 241: 0.0024207130083404946, 242: 0.00314298907681149, 243: 0.0022526580388305705, 244: 0.0032560654144916136, 245: 0.0034596908337473507, 246: 0.0033925470333319913, 247: 0.003348268315243961, 248: 0.0030829822716340475, 249: 0.0033608893332799897, 250: 0.0029251921332777604, 251: 0.0031784204519832025, 252: 0.0024832510700955788, 253: 0.002617004366793442, 254: 0.0033649828792255373, 255: 0.0033047825485703008, 256: 0.0035068627799412075, 257: 0.0034256802057120858, 258: 0.002030818607771586, 259: 0.0031368043744652604, 260: 0.003288418075825603, 261: 0.0033924793533645714, 262: 0.0017746986756270679, 263: 0.0020365613431577384, 264: 0.0030167319943761313, 265: 0.001566980579725719, 266: 0.0029524433605299365, 267: 0.00323341433756415, 268: 0.0012578736314115895, 269: 0.0024741017458388475, 270: 0.0028640005652156705, 271: 0.0015324283742425724, 272: 0.003172584678127743, 273: 0.0027657018141593924, 274: 0.0010405971475722735, 275: 0.0032017696577694727, 276: 0.00281587449199547, 277: 0.0010405971475722735, 278: 0.0033472980690689774, 279: 0.0006932024498916219, 280: 0.0025770042930595115, 281: 0.0026187289856722524, 282: 0.0013920025754766275, 283: 0.0029565830622976363, 284: 0.0031851620587932234, 285: 0.0017434320271498438, 286: 0.0025382960978761297, 287: 0.002917078182697027, 288: 0.0016825225225303906, 289: 0.002203762499422493, 290: 0.0033508676131861616, 291: 0.0014672512408736235, 292: 0.0025408994635996614, 293: 0.003034903953447615, 294: 0.0016138036012279607, 295: 0.0031469376506051893, 296: 0.00045530429510552684, 297: 0.0015842204507257953, 298: 0.0028258103318774958, 299: 0.002871134714319056, 300: 0.0016831893461110694, 301: 0.002982219802979402, 302: 0.00281587449199547, 303: 0.00184739308808216, 304: 0.0023912358737736795, 305: 0.002925833502118717, 306: 0.001679272124335911, 307: 0.00273572472480504, 308: 0.002871134714319056, 309: 0.0018876588166534963, 310: 0.002282753163621239, 311: 0.0023525932019898242, 312: 0.0016333378433364715, 313: 0.0019271282510932056, 314: 0.00281587449199547, 315: 0.0019398339670035397, 316: 0.002460155011528715, 317: 0.002704263739244961, 318: 0.0018728666698013768, 319: 0.0027102390938468154, 320: 0.0026187289856722524, 321: 0.0022751874050755015, 322: 0.002482269942015137, 323: 0.003067375242210935, 324: 0.001797839173242404, 325: 0.0024368584953973343, 326: 0.0031851620587932234, 327: 0.0019247226367129545, 328: 0.0032629231801989153, 329: 0.003237005290221139, 330: 0.0016491998686536378, 331: 0.0030318364247794234}\n"
     ]
    }
   ],
   "source": [
    "scores = nx.pagerank(nx_graph)\n",
    "print(scores)"
   ]
  },
  {
   "cell_type": "code",
   "execution_count": 17,
   "id": "00bf76e6-cc17-4ea8-8397-ac35761e329b",
   "metadata": {},
   "outputs": [
    {
     "name": "stdout",
     "output_type": "stream",
     "text": [
      "ca cb p constants determined according specific model architecture reccurent network set ca cb since affect qualitative model.\n",
      "b task setting choice probability yields matching behavior denoted pmatch pmatch figure ad plots evolution choice probability order parameters two learning rules without weight normalization constraint.\n",
      "contrast first order terms appear .\n",
      "figure evolution choice probability various learning rates .\n",
      "rmhebb rule without normalization networks approach matching behavior even large learning rate .\n",
      "learning rate increases choice probabilities deviate matching behavior towards unbiased random choice pa b plot rmrule hard bound condition synaptic weights restricted interval jmax n jmax .\n"
     ]
    }
   ],
   "source": [
    "ranked_sentences = sorted(((scores[i],i) for i,s in enumerate(sentences)), reverse=True)\n",
    "arranged_sentences = sorted(ranked_sentences[0:6], key=lambda x:x[1])\n",
    "print(\"\\n\".join([sentences[x[1]] for x in arranged_sentences]))"
   ]
  },
  {
   "cell_type": "code",
   "execution_count": 18,
   "id": "630be5a9-3728-4ef6-b535-4574de1e9814",
   "metadata": {},
   "outputs": [],
   "source": [
    "pred = [\" \".join([sentences[x[1]] for x in arranged_sentences])]"
   ]
  },
  {
   "cell_type": "code",
   "execution_count": 19,
   "id": "53c9319f-699b-4829-826b-9323ffd6a8c3",
   "metadata": {},
   "outputs": [
    {
     "name": "stderr",
     "output_type": "stream",
     "text": [
      "Using the latest cached version of the module from C:\\Users\\epaul\\.cache\\huggingface\\modules\\evaluate_modules\\metrics\\evaluate-metric--rouge\\b01e0accf3bd6dd24839b769a5fda24e14995071570870922c71970b3a6ed886 (last modified on Wed Apr  3 18:26:54 2024) since it couldn't be found locally at evaluate-metric--rouge, or remotely on the Hugging Face Hub.\n"
     ]
    }
   ],
   "source": [
    "rouge = evaluate.load('rouge')"
   ]
  },
  {
   "cell_type": "code",
   "execution_count": 20,
   "id": "48bcf24f-24c1-4aa3-82d9-30e04519b3c9",
   "metadata": {},
   "outputs": [
    {
     "name": "stdout",
     "output_type": "stream",
     "text": [
      "{'rouge1': 0.13930348258706465, 'rouge2': 0.030150753768844223, 'rougeL': 0.09950248756218906, 'rougeLsum': 0.09950248756218906}\n"
     ]
    }
   ],
   "source": [
    "results = rouge.compute(predictions=[clean(pred[0])], references=[clean(df.loc[rand, 'abstract'])])\n",
    "print(results)"
   ]
  },
  {
   "cell_type": "markdown",
   "id": "a41df219-45e2-453f-825c-168631776a6b",
   "metadata": {},
   "source": [
    "### Full dataset"
   ]
  },
  {
   "cell_type": "code",
   "execution_count": 21,
   "id": "fe683ed9-471a-4439-9b66-f5eb02f8a62b",
   "metadata": {},
   "outputs": [
    {
     "name": "stdout",
     "output_type": "stream",
     "text": [
      "0\n",
      "1\n",
      "2\n",
      "3\n",
      "4\n",
      "5\n",
      "6\n",
      "7\n",
      "8\n",
      "9\n",
      "10\n",
      "11\n",
      "12\n",
      "13\n",
      "14\n",
      "15\n",
      "16\n",
      "17\n",
      "18\n",
      "19\n",
      "20\n",
      "21\n",
      "22\n",
      "23\n",
      "24\n",
      "25\n",
      "26\n",
      "27\n",
      "28\n",
      "29\n"
     ]
    },
    {
     "ename": "PowerIterationFailedConvergence",
     "evalue": "(PowerIterationFailedConvergence(...), 'power iteration failed to converge within 1500 iterations')",
     "output_type": "error",
     "traceback": [
      "\u001b[1;31m---------------------------------------------------------------------------\u001b[0m",
      "\u001b[1;31mPowerIterationFailedConvergence\u001b[0m           Traceback (most recent call last)",
      "Cell \u001b[1;32mIn[21], line 24\u001b[0m\n\u001b[0;32m     22\u001b[0m \u001b[38;5;66;03m# Creating the network graph\u001b[39;00m\n\u001b[0;32m     23\u001b[0m nx_graph \u001b[38;5;241m=\u001b[39m nx\u001b[38;5;241m.\u001b[39mfrom_numpy_array(sim_mat)\n\u001b[1;32m---> 24\u001b[0m scores \u001b[38;5;241m=\u001b[39m \u001b[43mnx\u001b[49m\u001b[38;5;241;43m.\u001b[39;49m\u001b[43mpagerank\u001b[49m\u001b[43m(\u001b[49m\u001b[43mnx_graph\u001b[49m\u001b[43m,\u001b[49m\u001b[43m \u001b[49m\u001b[43mmax_iter\u001b[49m\u001b[38;5;241;43m=\u001b[39;49m\u001b[38;5;241;43m1500\u001b[39;49m\u001b[43m)\u001b[49m\n\u001b[0;32m     25\u001b[0m ranked_sentences \u001b[38;5;241m=\u001b[39m \u001b[38;5;28msorted\u001b[39m(((scores[i],i) \u001b[38;5;28;01mfor\u001b[39;00m i,s \u001b[38;5;129;01min\u001b[39;00m \u001b[38;5;28menumerate\u001b[39m(sentences)), reverse\u001b[38;5;241m=\u001b[39m\u001b[38;5;28;01mTrue\u001b[39;00m)\n\u001b[0;32m     26\u001b[0m arranged_sentences \u001b[38;5;241m=\u001b[39m \u001b[38;5;28msorted\u001b[39m(ranked_sentences[\u001b[38;5;241m0\u001b[39m:\u001b[38;5;241m6\u001b[39m], key\u001b[38;5;241m=\u001b[39m\u001b[38;5;28;01mlambda\u001b[39;00m x:x[\u001b[38;5;241m1\u001b[39m])\n",
      "File \u001b[1;32m~\\anaconda3\\envs\\ml\\Lib\\site-packages\\networkx\\algorithms\\link_analysis\\pagerank_alg.py:108\u001b[0m, in \u001b[0;36mpagerank\u001b[1;34m(G, alpha, personalization, max_iter, tol, nstart, weight, dangling)\u001b[0m\n\u001b[0;32m      9\u001b[0m \u001b[38;5;28;01mdef\u001b[39;00m \u001b[38;5;21mpagerank\u001b[39m(\n\u001b[0;32m     10\u001b[0m     G,\n\u001b[0;32m     11\u001b[0m     alpha\u001b[38;5;241m=\u001b[39m\u001b[38;5;241m0.85\u001b[39m,\n\u001b[1;32m   (...)\u001b[0m\n\u001b[0;32m     17\u001b[0m     dangling\u001b[38;5;241m=\u001b[39m\u001b[38;5;28;01mNone\u001b[39;00m,\n\u001b[0;32m     18\u001b[0m ):\n\u001b[0;32m     19\u001b[0m \u001b[38;5;250m    \u001b[39m\u001b[38;5;124;03m\"\"\"Returns the PageRank of the nodes in the graph.\u001b[39;00m\n\u001b[0;32m     20\u001b[0m \n\u001b[0;32m     21\u001b[0m \u001b[38;5;124;03m    PageRank computes a ranking of the nodes in the graph G based on\u001b[39;00m\n\u001b[1;32m   (...)\u001b[0m\n\u001b[0;32m    106\u001b[0m \n\u001b[0;32m    107\u001b[0m \u001b[38;5;124;03m    \"\"\"\u001b[39;00m\n\u001b[1;32m--> 108\u001b[0m     \u001b[38;5;28;01mreturn\u001b[39;00m \u001b[43mpagerank_scipy\u001b[49m\u001b[43m(\u001b[49m\n\u001b[0;32m    109\u001b[0m \u001b[43m        \u001b[49m\u001b[43mG\u001b[49m\u001b[43m,\u001b[49m\u001b[43m \u001b[49m\u001b[43malpha\u001b[49m\u001b[43m,\u001b[49m\u001b[43m \u001b[49m\u001b[43mpersonalization\u001b[49m\u001b[43m,\u001b[49m\u001b[43m \u001b[49m\u001b[43mmax_iter\u001b[49m\u001b[43m,\u001b[49m\u001b[43m \u001b[49m\u001b[43mtol\u001b[49m\u001b[43m,\u001b[49m\u001b[43m \u001b[49m\u001b[43mnstart\u001b[49m\u001b[43m,\u001b[49m\u001b[43m \u001b[49m\u001b[43mweight\u001b[49m\u001b[43m,\u001b[49m\u001b[43m \u001b[49m\u001b[43mdangling\u001b[49m\n\u001b[0;32m    110\u001b[0m \u001b[43m    \u001b[49m\u001b[43m)\u001b[49m\n",
      "File \u001b[1;32m~\\anaconda3\\envs\\ml\\Lib\\site-packages\\networkx\\algorithms\\link_analysis\\pagerank_alg.py:508\u001b[0m, in \u001b[0;36mpagerank_scipy\u001b[1;34m(G, alpha, personalization, max_iter, tol, nstart, weight, dangling)\u001b[0m\n\u001b[0;32m    506\u001b[0m     \u001b[38;5;28;01mif\u001b[39;00m err \u001b[38;5;241m<\u001b[39m N \u001b[38;5;241m*\u001b[39m tol:\n\u001b[0;32m    507\u001b[0m         \u001b[38;5;28;01mreturn\u001b[39;00m \u001b[38;5;28mdict\u001b[39m(\u001b[38;5;28mzip\u001b[39m(nodelist, \u001b[38;5;28mmap\u001b[39m(\u001b[38;5;28mfloat\u001b[39m, x)))\n\u001b[1;32m--> 508\u001b[0m \u001b[38;5;28;01mraise\u001b[39;00m nx\u001b[38;5;241m.\u001b[39mPowerIterationFailedConvergence(max_iter)\n",
      "\u001b[1;31mPowerIterationFailedConvergence\u001b[0m: (PowerIterationFailedConvergence(...), 'power iteration failed to converge within 1500 iterations')"
     ]
    }
   ],
   "source": [
    "score = 0\n",
    "max_score = 0\n",
    "p_id = 0\n",
    "for paper in range(250):\n",
    "    sentences = sent_tokenize(df.loc[paper, 'paper_text'])\n",
    "    cleaned_texts = [rem_ascii(clean(sentence)) for sentence in sentences]\n",
    "    sentence_vectors = []\n",
    "    for i in cleaned_texts:\n",
    "        if len(i) != 0:\n",
    "            v = sum([word_embeddings.get(w, np.zeros((dim,))) for w in i.split()])/(len(i.split())+0.001)\n",
    "        else:\n",
    "            v = np.zeros((dim,))\n",
    "        sentence_vectors.append(v)\n",
    "    sim_mat = np.zeros([len(cleaned_texts), len(cleaned_texts)])\n",
    "    for i in range(len(sentences)):\n",
    "        for j in range(len(sentences)):\n",
    "            if i != j:\n",
    "                sim_mat[i][j] = cosine_similarity(sentence_vectors[i].reshape(1,dim),sentence_vectors[j].reshape(1,dim))[0,0]\n",
    "            \n",
    "    sim_mat = np.round(sim_mat,3)\n",
    "\n",
    "    # Creating the network graph\n",
    "    nx_graph = nx.from_numpy_array(sim_mat)\n",
    "    scores = nx.pagerank(nx_graph, max_iter=1500)\n",
    "    ranked_sentences = sorted(((scores[i],i) for i,s in enumerate(sentences)), reverse=True)\n",
    "    arranged_sentences = sorted(ranked_sentences[0:6], key=lambda x:x[1])\n",
    "    pred = [\" \".join([sentences[x[1]] for x in arranged_sentences])]\n",
    "    score += rouge.compute(predictions=[clean(pred[0])], references=[clean(df.loc[paper, 'abstract'])])['rouge1']\n",
    "    if score >= max_score:\n",
    "        ma_score = score\n",
    "        p_id = paper\n",
    "    print(paper)\n",
    "print(f'avg rouge1 score for GloVe embedding is {score/len(df)}')"
   ]
  },
  {
   "cell_type": "code",
   "execution_count": null,
   "id": "bf5b3bd4-3380-41e8-8b46-6bc1452c5739",
   "metadata": {},
   "outputs": [],
   "source": []
  }
 ],
 "metadata": {
  "kernelspec": {
   "display_name": "Python 3 (ipykernel)",
   "language": "python",
   "name": "python3"
  },
  "language_info": {
   "codemirror_mode": {
    "name": "ipython",
    "version": 3
   },
   "file_extension": ".py",
   "mimetype": "text/x-python",
   "name": "python",
   "nbconvert_exporter": "python",
   "pygments_lexer": "ipython3",
   "version": "3.11.5"
  }
 },
 "nbformat": 4,
 "nbformat_minor": 5
}
